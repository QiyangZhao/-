{
 "cells": [
  {
   "cell_type": "code",
   "execution_count": 2,
   "metadata": {},
   "outputs": [
    {
     "name": "stderr",
     "output_type": "stream",
     "text": [
      "<ipython-input-2-6fdb4a83f5e8>:22: SettingWithCopyWarning: \n",
      "A value is trying to be set on a copy of a slice from a DataFrame.\n",
      "Try using .loc[row_indexer,col_indexer] = value instead\n",
      "\n",
      "See the caveats in the documentation: https://pandas.pydata.org/pandas-docs/stable/user_guide/indexing.html#returning-a-view-versus-a-copy\n",
      "  train_x['left'] = train_y\n",
      "<ipython-input-2-6fdb4a83f5e8>:23: SettingWithCopyWarning: \n",
      "A value is trying to be set on a copy of a slice from a DataFrame.\n",
      "Try using .loc[row_indexer,col_indexer] = value instead\n",
      "\n",
      "See the caveats in the documentation: https://pandas.pydata.org/pandas-docs/stable/user_guide/indexing.html#returning-a-view-versus-a-copy\n",
      "  test_x['left'] = test_y\n",
      "<ipython-input-2-6fdb4a83f5e8>:34: SettingWithCopyWarning: \n",
      "A value is trying to be set on a copy of a slice from a DataFrame.\n",
      "Try using .loc[row_indexer,col_indexer] = value instead\n",
      "\n",
      "See the caveats in the documentation: https://pandas.pydata.org/pandas-docs/stable/user_guide/indexing.html#returning-a-view-versus-a-copy\n",
      "  train_x['left'] = train_y\n",
      "<ipython-input-2-6fdb4a83f5e8>:35: SettingWithCopyWarning: \n",
      "A value is trying to be set on a copy of a slice from a DataFrame.\n",
      "Try using .loc[row_indexer,col_indexer] = value instead\n",
      "\n",
      "See the caveats in the documentation: https://pandas.pydata.org/pandas-docs/stable/user_guide/indexing.html#returning-a-view-versus-a-copy\n",
      "  test_x['left'] = test_y\n"
     ]
    }
   ],
   "source": [
    "import numpy as np\n",
    "import pandas as pd\n",
    "from sklearn.model_selection import train_test_split\n",
    "\n",
    "hr = pd.read_csv('HR_comma_seq.csv')\n",
    "\n",
    "#将salary转换成数值\n",
    "hr['salary'] = hr['salary'].map({'low':1, 'medium':2, 'high':3})\n",
    "\n",
    "#数值归一化\n",
    "cols = ['number_project','average_montly_hours', 'time_spend_company','salary']\n",
    "for col in cols:\n",
    "    hr[col] = (hr[col] - hr[col].min())/(hr[col].max() - hr[col].min())\n",
    "\n",
    "#对sales进行one-hot编码\n",
    "hr = pd.get_dummies(hr)\n",
    "\n",
    "#生成训练集和测试集\n",
    "y = hr['left']\n",
    "x = hr.drop(columns='left')\n",
    "train_x, test_x, train_y, test_y = train_test_split(x, y, test_size=0.3, random_state=8)\n",
    "train_x['left'] = train_y\n",
    "test_x['left'] = test_y\n",
    "\n",
    "#保存训练集和测试集\n",
    "test_x.to_csv('hr_test.csv', index=None)\n",
    "train_x.to_csv('hr_train.csv', index=None)\n",
    "\n",
    "#决策树数据集\n",
    "y = hr['left']\n",
    "x = hr.drop(columns='left')\n",
    "\n",
    "train_x, test_x, train_y, test_y = train_test_split(x, y, test_size=0.3, random_state=8)\n",
    "train_x['left'] = train_y\n",
    "test_x['left'] = test_y\n",
    "test_x.to_csv('hr_test_tree.csv', index=None)\n",
    "train_x.to_csv('hr_train_tree.csv', index=None)"
   ]
  },
  {
   "cell_type": "code",
   "execution_count": null,
   "metadata": {},
   "outputs": [],
   "source": []
  }
 ],
 "metadata": {
  "kernelspec": {
   "display_name": "Python 3",
   "language": "python",
   "name": "python3"
  },
  "language_info": {
   "codemirror_mode": {
    "name": "ipython",
    "version": 3
   },
   "file_extension": ".py",
   "mimetype": "text/x-python",
   "name": "python",
   "nbconvert_exporter": "python",
   "pygments_lexer": "ipython3",
   "version": "3.8.5"
  }
 },
 "nbformat": 4,
 "nbformat_minor": 4
}
